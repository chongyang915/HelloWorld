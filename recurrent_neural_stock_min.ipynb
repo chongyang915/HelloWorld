{
 "cells": [
  {
   "cell_type": "markdown",
   "metadata": {},
   "source": []
  },
  {
   "cell_type": "markdown",
   "metadata": {},
   "source": [
    "# 循环神经网络股票预测初探"
   ]
  },
  {
   "cell_type": "markdown",
   "metadata": {},
   "source": [
    "## 循环神经网络介绍"
   ]
  },
  {
   "cell_type": "markdown",
   "metadata": {},
   "source": [
    "当我们对新事物进行思考时,其实并不每次都是从零开始,过往的经验总会给我们一些启\n",
    "发。对于一段连续的语音、一篇连续的文章,我们可以根据句子的开头去猜测结尾,但传\n",
    "统的神经网络却很难做到这一点。循环神经网络(Recurrent Neural Networks)正是处理这\n",
    "一系列问题的专家。RNN 的前身是 1982 年由 John Hopfield 提出的 Hopfield 模型,由于\n",
    "实现困难外加没有合适的应用领域,一直没有得到学界重视,近年来由于自然语言处理的\n",
    "需求,RNN 得以深度发展。"
   ]
  },
  {
   "cell_type": "markdown",
   "metadata": {},
   "source": [
    "## 循环神经网络与传统神经网络区别"
   ]
  },
  {
   "cell_type": "markdown",
   "metadata": {},
   "source": [
    "循环神经网络与传统神经网络最大的区别就是更适合用于处理时间序列数据，传统的神经网络，前面的样本不会对后面样本的输出造成影响，而在循环神经网络中，先前样本的\n",
    "输出会成为后面样本的输入之一，这就是的网络具有了“记忆”功能，在处理序列数据上，更有优势。"
   ]
  },
  {
   "cell_type": "markdown",
   "metadata": {},
   "source": [
    "## Recurrent Neural network"
   ]
  },
  {
   "cell_type": "markdown",
   "metadata": {},
   "source": [
    "顾名思义,RNN 是包含循环的网络,如图表 1 左侧所示,神经网络的模块正在读取某个\n",
    "输入 x,并输出一个值 o,循环可以使得信息从当前步传递到下一步。从表面看,这样的\n",
    "网络结构较难理解,因此将其展开为图表 1 右侧。\n",
    "对于从序列索引 1 到 T 的时间序列数据,\n",
    "如果关注 t 时刻附近的网络结构,x t 代表了在序列索引号 t 时刻训练样本的输入,同理x t−1\n",
    "和x t+1 代表了在序列索引号 t-1 时刻和 t+1 时刻训练样本的输入; h t 代表在 t 时刻模型的隐\n",
    "藏状态,与 ANN 不同的是,h t 不仅由x t 决定,也受到h t−1 的影响;o t 代表在 t 时刻模型的\n",
    "输出,o t 只由模型当前的隐藏状态h t 决定;y t 是 t 时刻样本序列的真实值;L t 是 t 时刻模型\n",
    "的损失函数,通过o t 和y t 计算得出;U、V、W 这三个矩阵是模型的参数,它们在整个模\n",
    "型中是共享的,\n",
    "这和传统的 ANN 模型不太一样,同时也体现了 RNN 模型循环反馈的思想。"
   ]
  },
  {
   "cell_type": "markdown",
   "metadata": {},
   "source": [
    "![title](http://colah.github.io/posts/2015-08-Understanding-LSTMs/img/RNN-unrolled.png)"
   ]
  },
  {
   "cell_type": "markdown",
   "metadata": {},
   "source": [
    "## RNN 使用形式"
   ]
  },
  {
   "cell_type": "markdown",
   "metadata": {},
   "source": [
    "使用 RNN 时的主要形式有 4 种,如图 所示。\n",
    "1. Many to many,每一个输入都有相对应的输出,例如给视频的每一帧贴标签;\n",
    "2. Many to one,整个序列只有一个输出,例如文本的情感分析;\n",
    "3. One to many,通过一个输入产生一个序列,例如给一张图片加上一串解说词;\n",
    "4. Many to many,并不一一对应,典型应用是翻译领域。\n"
   ]
  },
  {
   "cell_type": "markdown",
   "metadata": {},
   "source": [
    "![RNN](https://karpathy.github.io/assets/rnn/diags.jpeg)"
   ]
  },
  {
   "cell_type": "markdown",
   "metadata": {},
   "source": [
    "## 长短期记忆网络 Long Short Term Memory LSTM"
   ]
  },
  {
   "cell_type": "markdown",
   "metadata": {},
   "source": [
    "传统 RNN 模型容易产生梯度消失的问题,难以处理长序列的数据。而造成梯度消失的原\n",
    "因,本质上是因为隐藏层状态 h t 的计算方式导致梯度被表示为连乘积的形式 ,因此\n",
    "Hochreater 和 Schmidhuber 在 1997 年提出了长短期记忆网络 LSTM,通过精心设计的隐\n",
    "藏层神经元缓解了传统 RNN 的梯度消失问题。"
   ]
  },
  {
   "cell_type": "markdown",
   "metadata": {},
   "source": [
    "LSTM 模型中,每个序列索引位置 t 时刻被向前传播的,除了和 RNN 一样的隐藏状态h t ,\n",
    "还多了另一个隐藏状态。这个隐藏状态被我们称为细胞状态\n",
    "C t (Cell State),C t 在 LSTM 中实质上起到了 RNN 中隐层状态h t 的作用。除了细胞状态,\n",
    "图中还有其他许多结构,这些结构一般称之为门控结构(Gate)。LSTM 模型在每个序列索\n",
    "引位置 t 的门控结构一般包括遗忘门,输入门和输出门三种。"
   ]
  },
  {
   "cell_type": "markdown",
   "metadata": {},
   "source": [
    "![LSTM](https://colah.github.io/posts/2015-08-Understanding-LSTMs/img/LSTM3-chain.png)"
   ]
  },
  {
   "cell_type": "markdown",
   "metadata": {},
   "source": [
    "我们的模型首先决定丢弃哪些信息，这是通过一个sigmoid层来实现的，也称为遗忘门层（forget gate layer）。接收上一层的输出\n",
    "以及当前输入，对于胞元状态（Cell State） Ct−1中的每一个数，输出一个0-1之间的数值。1代表完全保留，0代表完全丢弃。例如在一个用来预测下一个单词的\n",
    "语言模型中，胞元状态可能会需要保留句子主语的阳性/阴性信息进而使用正确的单复数形式。当我们看到了一个新的主语时，我们需要忘掉老的主语。"
   ]
  },
  {
   "cell_type": "markdown",
   "metadata": {},
   "source": [
    "![forget gate](https://colah.github.io/posts/2015-08-Understanding-LSTMs/img/LSTM3-focus-f.png)"
   ]
  },
  {
   "cell_type": "markdown",
   "metadata": {},
   "source": [
    "接下来我们需要决定的是在胞元状态中存储哪些新的信息。首先，一个sigmoid层，“输入门层”，决定我们更新哪些信息，接下来，一个tanh层生成一个新的\n",
    "可以增加到当前状态的候选值向量，C~t，然后，我们将这两者组合来对状态进行更新。在我们的语言模型例子中，我们想要添加新主语的gender信息，来代替我们遗忘的旧的主语。"
   ]
  },
  {
   "cell_type": "markdown",
   "metadata": {},
   "source": [
    "![title](https://colah.github.io/posts/2015-08-Understanding-LSTMs/img/LSTM3-focus-i.png)"
   ]
  },
  {
   "cell_type": "markdown",
   "metadata": {},
   "source": [
    "最终，我们将决定输出的内容。我们的输出基于胞元状态，但是是一个滤波后的版本。首先，我们运行一个sigmoid层来确定我们将要输出胞元状态的哪些部分，然后我们将该状态送入tanh（使得值在-1和1的区间内），并且和sigmoid门的输出相乘，这样我们只会输出我们想要输出的部分。"
   ]
  },
  {
   "cell_type": "markdown",
   "metadata": {},
   "source": [
    "![title](https://colah.github.io/posts/2015-08-Understanding-LSTMs/img/LSTM3-focus-o.png)"
   ]
  },
  {
   "cell_type": "markdown",
   "metadata": {},
   "source": [
    "GRU 概述\n",
    "门控循环单元(Gated Recurrent Units)由 Cho 在 2014 年提出,是 LSTM 模型的一类常见\n",
    "变种。与 LSTM 不同的是, GRU 将遗忘门和输入门合成为单一的更新门。 GRU\n",
    "将输入门i t 和遗忘门f t 融合成单一的更新门z t ,并且融合了细胞状态C t 和隐藏状态h t 。"
   ]
  },
  {
   "cell_type": "markdown",
   "metadata": {},
   "source": [
    "![title](https://colah.github.io/posts/2015-08-Understanding-LSTMs/img/LSTM3-var-GRU.png)"
   ]
  },
  {
   "cell_type": "markdown",
   "metadata": {},
   "source": [
    "GRU 对比 LSTM\n",
    "Greff 在 2015 年比较了 LSTM 常见的变种,发现它们的学习效果相差无几;GRU 的主要\n",
    "优势在于其构造简单,相比 LSTM 减少了一个门控结构,少了很多矩阵乘法运算,因此在\n",
    "训练数据量很大的情况下,GRU 相比 LSTM 能节省很多时间"
   ]
  },
  {
   "cell_type": "markdown",
   "metadata": {},
   "source": [
    "# 基于LSTM股价预测"
   ]
  },
  {
   "cell_type": "markdown",
   "metadata": {},
   "source": [
    "实验数据 股票分钟数据"
   ]
  },
  {
   "cell_type": "code",
   "execution_count": 16,
   "metadata": {},
   "outputs": [],
   "source": [
    "import pandas as pd\n",
    "df = pd.read_csv('/home/dell/zcy/Fintech/Min_stock_data/2016/000001.SZ.csv',names=['open','high','low','close','volume','money'])"
   ]
  },
  {
   "cell_type": "markdown",
   "metadata": {},
   "source": [
    "股票开头前几分钟数据展示"
   ]
  },
  {
   "cell_type": "code",
   "execution_count": 17,
   "metadata": {},
   "outputs": [
    {
     "data": {
      "text/html": [
       "<div>\n",
       "<style>\n",
       "    .dataframe thead tr:only-child th {\n",
       "        text-align: right;\n",
       "    }\n",
       "\n",
       "    .dataframe thead th {\n",
       "        text-align: left;\n",
       "    }\n",
       "\n",
       "    .dataframe tbody tr th {\n",
       "        vertical-align: top;\n",
       "    }\n",
       "</style>\n",
       "<table border=\"1\" class=\"dataframe\">\n",
       "  <thead>\n",
       "    <tr style=\"text-align: right;\">\n",
       "      <th></th>\n",
       "      <th>open</th>\n",
       "      <th>high</th>\n",
       "      <th>low</th>\n",
       "      <th>close</th>\n",
       "      <th>volume</th>\n",
       "      <th>money</th>\n",
       "    </tr>\n",
       "  </thead>\n",
       "  <tbody>\n",
       "    <tr>\n",
       "      <th>20160104 09:30:00</th>\n",
       "      <td>12.00</td>\n",
       "      <td>12.03</td>\n",
       "      <td>11.99</td>\n",
       "      <td>11.99</td>\n",
       "      <td>690256</td>\n",
       "      <td>8284705.0</td>\n",
       "    </tr>\n",
       "    <tr>\n",
       "      <th>20160104 09:31:00</th>\n",
       "      <td>11.99</td>\n",
       "      <td>11.99</td>\n",
       "      <td>11.96</td>\n",
       "      <td>11.97</td>\n",
       "      <td>650744</td>\n",
       "      <td>7798241.0</td>\n",
       "    </tr>\n",
       "    <tr>\n",
       "      <th>20160104 09:32:00</th>\n",
       "      <td>11.97</td>\n",
       "      <td>11.99</td>\n",
       "      <td>11.97</td>\n",
       "      <td>11.99</td>\n",
       "      <td>367600</td>\n",
       "      <td>4402249.0</td>\n",
       "    </tr>\n",
       "    <tr>\n",
       "      <th>20160104 09:33:00</th>\n",
       "      <td>11.99</td>\n",
       "      <td>11.99</td>\n",
       "      <td>11.98</td>\n",
       "      <td>11.99</td>\n",
       "      <td>312332</td>\n",
       "      <td>3743239.0</td>\n",
       "    </tr>\n",
       "    <tr>\n",
       "      <th>20160104 09:34:00</th>\n",
       "      <td>11.99</td>\n",
       "      <td>12.00</td>\n",
       "      <td>11.99</td>\n",
       "      <td>12.00</td>\n",
       "      <td>413989</td>\n",
       "      <td>4967174.0</td>\n",
       "    </tr>\n",
       "  </tbody>\n",
       "</table>\n",
       "</div>"
      ],
      "text/plain": [
       "                    open   high    low  close  volume      money\n",
       "20160104 09:30:00  12.00  12.03  11.99  11.99  690256  8284705.0\n",
       "20160104 09:31:00  11.99  11.99  11.96  11.97  650744  7798241.0\n",
       "20160104 09:32:00  11.97  11.99  11.97  11.99  367600  4402249.0\n",
       "20160104 09:33:00  11.99  11.99  11.98  11.99  312332  3743239.0\n",
       "20160104 09:34:00  11.99  12.00  11.99  12.00  413989  4967174.0"
      ]
     },
     "execution_count": 17,
     "metadata": {},
     "output_type": "execute_result"
    }
   ],
   "source": [
    "df.head()"
   ]
  },
  {
   "cell_type": "markdown",
   "metadata": {},
   "source": [
    "单变量单步股价预测，用前n天的收盘价，来预测n+1天股票收盘价，本例中n=20 （程序中的look_back参数）"
   ]
  },
  {
   "cell_type": "code",
   "execution_count": 1,
   "metadata": {},
   "outputs": [
    {
     "name": "stderr",
     "output_type": "stream",
     "text": [
      "Using TensorFlow backend.\n",
      "/home/dell/anaconda3/envs/Fintech/lib/python3.5/site-packages/ipykernel/__main__.py:53: UserWarning: The `input_dim` and `input_length` arguments in recurrent layers are deprecated. Use `input_shape` instead.\n",
      "/home/dell/anaconda3/envs/Fintech/lib/python3.5/site-packages/ipykernel/__main__.py:53: UserWarning: Update your `LSTM` call to the Keras 2 API: `LSTM(32, input_shape=(None, 1))`\n",
      "/home/dell/anaconda3/envs/Fintech/lib/python3.5/site-packages/keras/models.py:848: UserWarning: The `nb_epoch` argument in `fit` has been renamed `epochs`.\n",
      "  warnings.warn('The `nb_epoch` argument in `fit` '\n"
     ]
    },
    {
     "name": "stdout",
     "output_type": "stream",
     "text": [
      "Epoch 1/5\n",
      "34s - loss: 0.0021\n",
      "Epoch 2/5\n",
      "33s - loss: 1.7154e-04\n",
      "Epoch 3/5\n",
      "33s - loss: 1.2444e-04\n",
      "Epoch 4/5\n",
      "33s - loss: 1.0809e-04\n",
      "Epoch 5/5\n",
      "33s - loss: 8.8611e-05\n"
     ]
    },
    {
     "data": {
      "image/png": "[encoded data removed]",
      "text/plain": [
       "<matplotlib.figure.Figure at 0x7fc6cebb4eb8>"
      ]
     },
     "metadata": {},
     "output_type": "display_data"
    }
   ],
   "source": [
    "from pandas import DataFrame\n",
    "from pandas import Series\n",
    "from pandas import concat\n",
    "from pandas import read_csv\n",
    "from pandas import datetime\n",
    "from sklearn.metrics import mean_squared_error\n",
    "from sklearn.preprocessing import MinMaxScaler\n",
    "from keras.models import Sequential\n",
    "from keras.layers import Dense\n",
    "from keras.layers import LSTM\n",
    "from math import sqrt\n",
    "import pandas as pd\n",
    "\n",
    "import matplotlib\n",
    "matplotlib.use('TkAgg')\n",
    "from matplotlib import pyplot as plt\n",
    "%matplotlib inline  \n",
    "import numpy as np\n",
    "\n",
    "\n",
    "def create_dataset(dataset,look_back=1):\n",
    "    dataX,dataY = [],[]\n",
    "    for i in range(len(dataset)-look_back-1):\n",
    "        dataX.append(dataset[i:(i+look_back),0])\n",
    "        dataY.append(dataset[i+look_back,0])\n",
    "    return np.array(dataX),np.array(dataY)\n",
    "\n",
    "# df = pd.read_csv('/home/dell/zcy/Fintech/sp500/data_stocks.csv')\n",
    "# dataset = np.array(df['SP500'].values[0:1000])\n",
    "# dataset = dataset.astype('float32')\n",
    "\n",
    "\n",
    "df = pd.read_csv('/home/dell/zcy/Fintech/Min_stock_data/2016/000001.SZ.csv',names=['open','high','low','close','volume','money'])\n",
    "dataset = df['close'].values[0:10000]\n",
    "dataset = dataset.astype('float32')\n",
    "\n",
    "scaler = MinMaxScaler(feature_range=(0,1))\n",
    "dataset = scaler.fit_transform(dataset.reshape(-1,1))\n",
    "\n",
    "train_size = int(len(dataset)*0.67)\n",
    "test_size = len(dataset)-train_size\n",
    "train,test = dataset[0:train_size,:],dataset[train_size:len(dataset),:]\n",
    "\n",
    "look_back = 20\n",
    "X_train,y_train = create_dataset(train,look_back)\n",
    "X_test,y_test = create_dataset(test,look_back)\n",
    "\n",
    "# reshape for LSTM [samples, time steps, features]\n",
    "X_train = np.reshape(X_train, (X_train.shape[0], X_train.shape[1], 1))\n",
    "X_test = np.reshape(X_test, (X_test.shape[0], X_test.shape[1], 1))\n",
    "\n",
    "model = Sequential()\n",
    "model.add(LSTM(32,input_dim=1))\n",
    "model.add(Dense(1))\n",
    "\n",
    "model.compile(loss='mean_squared_error',optimizer='adam')\n",
    "model.fit(X_train,y_train,nb_epoch=5,batch_size=5,verbose=2)\n",
    "\n",
    "train_pred = model.predict(X_train)\n",
    "test_pred = model.predict(X_test)\n",
    "\n",
    "train_pred = scaler.inverse_transform(train_pred)\n",
    "y_train = np.reshape(y_train,(-1,1))\n",
    "y_train = scaler.inverse_transform(y_train)\n",
    "y_test = np.reshape(y_test,(-1,1))\n",
    "test_pred = scaler.inverse_transform(test_pred)\n",
    "y_test = scaler.inverse_transform(y_test)\n",
    "\n",
    "train_pred_plot = np.empty_like(dataset)\n",
    "train_pred_plot[:,:] = np.nan\n",
    "train_pred_plot[look_back:len(train_pred)+look_back,:] = train_pred\n",
    "\n",
    "test_pred_plot = np.empty_like(dataset)\n",
    "test_pred_plot[:,:] = np.nan\n",
    "test_pred_plot[len(train_pred)+(look_back*2)+1:len(dataset)-1,:] = test_pred\n",
    "\n",
    "plt.figure()\n",
    "plt.plot(scaler.inverse_transform(dataset),color='b',lw=2.0,label='stock_truth')\n",
    "plt.plot(train_pred_plot,color='g',lw=2.0,label='LSTM train')\n",
    "plt.plot(test_pred_plot,color='r',lw=2.0,label='LSTM test')\n",
    "plt.legend(loc=0)\n",
    "plt.grid(True)\n",
    "plt.show()"
   ]
  },
  {
   "cell_type": "code",
   "execution_count": null,
   "metadata": {},
   "outputs": [],
   "source": []
  }
 ],
 "metadata": {
  "anaconda-cloud": {},
  "kernelspec": {
   "display_name": "Python [conda env:Fintech]",
   "language": "python",
   "name": "conda-env-Fintech-py"
  },
  "language_info": {
   "codemirror_mode": {
    "name": "ipython",
    "version": 3
   },
   "file_extension": ".py",
   "mimetype": "text/x-python",
   "name": "python",
   "nbconvert_exporter": "python",
   "pygments_lexer": "ipython3",
   "version": "3.5.4"
  }
 },
 "nbformat": 4,
 "nbformat_minor": 1
}
